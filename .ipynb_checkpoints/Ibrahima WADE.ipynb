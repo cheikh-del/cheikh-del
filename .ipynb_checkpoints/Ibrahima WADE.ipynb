{
 "cells": [
  {
   "cell_type": "raw",
   "metadata": {},
   "source": [
    "Ibrahima WADE"
   ]
  },
  {
   "cell_type": "markdown",
   "metadata": {},
   "source": [
    "## Exercise 1: Calculating the sum of integers \n",
    "\n",
    "Write a program that calculates the sum of integers from 1 to 100 (inclusive) using a loop for. Then\n",
    "display the sum."
   ]
  },
  {
   "cell_type": "code",
   "execution_count": 2,
   "metadata": {},
   "outputs": [
    {
     "name": "stdout",
     "output_type": "stream",
     "text": [
      "La somme de 100 premier entier est: 5050\n"
     ]
    }
   ],
   "source": [
    "sum = 0\n",
    "for i in range(1,101):\n",
    "    sum += i\n",
    "print(f\"La somme de 100 premier entier est: {sum}\")"
   ]
  },
  {
   "cell_type": "markdown",
   "metadata": {},
   "source": [
    "## Exercise 2: Finding a multiple\n",
    "\n",
    "Write a program that finds and displays all multiples of 7 between 100 and 200 (included) using a for\n",
    "loop."
   ]
  },
  {
   "cell_type": "code",
   "execution_count": 3,
   "metadata": {},
   "outputs": [
    {
     "name": "stdout",
     "output_type": "stream",
     "text": [
      "105 est un multiple de 7\n",
      "112 est un multiple de 7\n",
      "119 est un multiple de 7\n",
      "126 est un multiple de 7\n",
      "133 est un multiple de 7\n",
      "140 est un multiple de 7\n",
      "147 est un multiple de 7\n",
      "154 est un multiple de 7\n",
      "161 est un multiple de 7\n",
      "168 est un multiple de 7\n",
      "175 est un multiple de 7\n",
      "182 est un multiple de 7\n",
      "189 est un multiple de 7\n",
      "196 est un multiple de 7\n"
     ]
    }
   ],
   "source": [
    "for i in range(100, 201):\n",
    "    if i%7==0:\n",
    "        print(f\"{i } est un multiple de {7}\")"
   ]
  },
  {
   "cell_type": "markdown",
   "metadata": {},
   "source": [
    "## Exercise 3: Multiplication table\n",
    "\n",
    "Ask the user to enter an integer. Then write a program that displays the multiplication table of this\n",
    "number from 1 to 10 using a for loop."
   ]
  },
  {
   "cell_type": "code",
   "execution_count": 7,
   "metadata": {},
   "outputs": [
    {
     "name": "stdout",
     "output_type": "stream",
     "text": [
      "Enter an integer, please: 8\n",
      " the multiplication table of 8\n",
      "8 x 1 = 8\n",
      "8 x 2 = 16\n",
      "8 x 3 = 24\n",
      "8 x 4 = 32\n",
      "8 x 5 = 40\n",
      "8 x 6 = 48\n",
      "8 x 7 = 56\n",
      "8 x 8 = 64\n",
      "8 x 9 = 72\n",
      "8 x 10 = 80\n"
     ]
    }
   ],
   "source": [
    "x = int(input(\"Enter an integer, please: \"))\n",
    "print(f\" the multiplication table of {x}\")\n",
    "for i in range(1, 11):\n",
    "        print(f\"{x} x {i} = {x*i}\")        "
   ]
  },
  {
   "cell_type": "markdown",
   "metadata": {},
   "source": [
    "## Exercise 4: Calculating the average\n",
    "\n",
    "Ask the user to enter a series of numbers (use a sentinel value to indicate the end of the entry, for\n",
    "example, -1). Then write a program that calculates the average of these numbers using a while loop."
   ]
  },
  {
   "cell_type": "code",
   "execution_count": 24,
   "metadata": {},
   "outputs": [
    {
     "name": "stdout",
     "output_type": "stream",
     "text": [
      "Enter the 1^th number or -1 if you finish 4\n",
      "Enter the 2^th number or -1 if you finish 15\n",
      "Enter the 3^th number or -1 if you finish 75\n",
      "Enter the 4^th number or -1 if you finish 84\n",
      "Enter the 5^th number or -1 if you finish 95\n",
      "Enter the 6^th number or -1 if you finish 25\n",
      "Enter the 7^th number or -1 if you finish 75\n",
      "Enter the 8^th number or -1 if you finish 35\n",
      "Enter the 9^th number or -1 if you finish 62\n",
      "Enter the 10^th number or -1 if you finish 68\n",
      "Enter the 11^th number or -1 if you finish -1\n",
      "The avarange is: 53.8\n"
     ]
    }
   ],
   "source": [
    "t=0\n",
    "sum=0\n",
    "counter=0\n",
    "while t!=-1:\n",
    "    counter+=1\n",
    "    sum +=t\n",
    "    t = int(input(f\"Enter the {counter}^th number or -1 if you finish \"))          \n",
    "avarage=(sum/(counter-1))\n",
    "print(f\"The avarange is: {avarage}\")\n",
    "    "
   ]
  },
  {
   "cell_type": "markdown",
   "metadata": {},
   "source": [
    "## Exercise 5: Palindrome\n",
    "\n",
    "Ask the user to enter a string. Write a program that checks if the string is a palindrome (i.e. it reads the\n",
    "same from left to right and right to left, ignoring spaces and case) using a for loop."
   ]
  },
  {
   "cell_type": "code",
   "execution_count": 2,
   "metadata": {},
   "outputs": [
    {
     "name": "stdout",
     "output_type": "stream",
     "text": [
      "Give a string marinaaniram\n",
      " This string is a palindrome\n"
     ]
    }
   ],
   "source": [
    "p=0\n",
    "a=input(\"Give a string \")\n",
    "for i in range(len(a)//2):\n",
    "    if a[i] != a[-i-1]:\n",
    "        p=1\n",
    "if p==0:\n",
    "    print (\" This string is a palindrome\")\n",
    "else:\n",
    "    print (\" This string is not a palindrome\")"
   ]
  },
  {
   "cell_type": "markdown",
   "metadata": {},
   "source": [
    "## Exercise 6: Calculation of the factorial\n",
    "\n",
    "Ask the user to enter an integer. Write a program that calculates the factorial of this number using a\n",
    "for loop."
   ]
  },
  {
   "cell_type": "code",
   "execution_count": 4,
   "metadata": {},
   "outputs": [
    {
     "name": "stdout",
     "output_type": "stream",
     "text": [
      "Give an integer5\n",
      "5!=120 \n"
     ]
    }
   ],
   "source": [
    "x=int(input(\"Give an integer\"))\n",
    "fact=1\n",
    "for i in range (1, x+1):\n",
    "    fact*=i\n",
    "print(f\"{x}!={fact} \")\n"
   ]
  },
  {
   "cell_type": "markdown",
   "metadata": {},
   "source": [
    "# Exercise 7  Password"
   ]
  },
  {
   "cell_type": "code",
   "execution_count": 5,
   "metadata": {},
   "outputs": [
    {
     "name": "stdout",
     "output_type": "stream",
     "text": [
      " Enter the password please kg\n"
     ]
    },
    {
     "ename": "IndexError",
     "evalue": "string index out of range",
     "output_type": "error",
     "traceback": [
      "\u001b[1;31m---------------------------------------------------------------------------\u001b[0m",
      "\u001b[1;31mIndexError\u001b[0m                                Traceback (most recent call last)",
      "Cell \u001b[1;32mIn[5], line 6\u001b[0m\n\u001b[0;32m      4\u001b[0m \u001b[38;5;28;01mwhile\u001b[39;00m t\u001b[38;5;241m!=\u001b[39m\u001b[38;5;28mlen\u001b[39m(password):\n\u001b[0;32m      5\u001b[0m     \u001b[38;5;28;01mfor\u001b[39;00m i \u001b[38;5;129;01min\u001b[39;00m \u001b[38;5;28mrange\u001b[39m (\u001b[38;5;241m1\u001b[39m ,\u001b[38;5;28mlen\u001b[39m(password)\u001b[38;5;241m+\u001b[39m\u001b[38;5;241m1\u001b[39m):\n\u001b[1;32m----> 6\u001b[0m         \u001b[38;5;28;01mif\u001b[39;00m password [i]\u001b[38;5;241m==\u001b[39mtrying[i]:\n\u001b[0;32m      7\u001b[0m             t\u001b[38;5;241m+\u001b[39m\u001b[38;5;241m=\u001b[39m\u001b[38;5;241m1\u001b[39m\n\u001b[0;32m      8\u001b[0m     \u001b[38;5;28;01mif\u001b[39;00m t\u001b[38;5;241m==\u001b[39m\u001b[38;5;28mlen\u001b[39m(password):\n",
      "\u001b[1;31mIndexError\u001b[0m: string index out of range"
     ]
    }
   ],
   "source": [
    "password=\"password123\"\n",
    "t=0\n",
    "trying=input(\" Enter the password please \")\n",
    "while t!=len(password):\n",
    "    for i in range (1 ,len(password)+1):\n",
    "        if password[i]==trying[i]:\n",
    "            t+=1\n",
    "    if t==len(password):\n",
    "        print(\"SUCCES, congratulaton !\")\n",
    "    else:\n",
    "        trying=input(\"Wrong! try again \")\n",
    "\n"
   ]
  },
  {
   "cell_type": "markdown",
   "metadata": {},
   "source": [
    "## Exercise 8: Displaying Patterns\n",
    "\n",
    "Write a program that displays the following patterns using nested for loops:\n"
   ]
  },
  {
   "cell_type": "code",
   "execution_count": 1,
   "metadata": {},
   "outputs": [
    {
     "name": "stdout",
     "output_type": "stream",
     "text": [
      "*\n",
      "**\n",
      "***\n",
      "****\n",
      "*****\n",
      "1 \n",
      "1 2 \n",
      "1 2 3 \n",
      "1 2 3 4 \n",
      "1 2 3 4 5 \n",
      "A\n",
      "BB\n",
      "CCC\n",
      "DDDD\n",
      "EEEEE\n"
     ]
    }
   ],
   "source": [
    "for i in range (1, 6):\n",
    "    for j in range (1, i+1):\n",
    "        print(\"*\",end='')\n",
    "    print()\n",
    "for i in range (1, 6):\n",
    "    for j in range (1, i+1):\n",
    "        print(j,\"\", end='')\n",
    "    print()\n",
    "for i in range (1, 6):\n",
    "    for j in range (1, i+1):\n",
    "        if i==1:\n",
    "            print(\"A\",end='')\n",
    "        elif i==2:\n",
    "            print(\"B\",end='')\n",
    "        elif i==3:\n",
    "            print(\"C\",end='')\n",
    "        elif i==4:\n",
    "            print(\"D\",end='')\n",
    "        else:\n",
    "            print(\"E\",end='')\n",
    "    print()"
   ]
  },
  {
   "cell_type": "code",
   "execution_count": null,
   "metadata": {},
   "outputs": [],
   "source": []
  }
 ],
 "metadata": {
  "kernelspec": {
   "display_name": "Python 3",
   "language": "python",
   "name": "python3"
  },
  "language_info": {
   "codemirror_mode": {
    "name": "ipython",
    "version": 3
   },
   "file_extension": ".py",
   "mimetype": "text/x-python",
   "name": "python",
   "nbconvert_exporter": "python",
   "pygments_lexer": "ipython3",
   "version": "3.7.3"
  }
 },
 "nbformat": 4,
 "nbformat_minor": 2
}
